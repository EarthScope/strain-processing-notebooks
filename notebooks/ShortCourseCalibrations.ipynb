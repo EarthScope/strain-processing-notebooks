{
 "cells": [
  {
   "cell_type": "markdown",
   "id": "57f01e53",
   "metadata": {},
   "source": [
    "# Example of using different calibration matrices"
   ]
  },
  {
   "cell_type": "code",
   "execution_count": null,
   "id": "a70c599f",
   "metadata": {},
   "outputs": [],
   "source": [
    "import numpy as np\n",
    "import pandas as pd\n",
    "import earthscopestraintools\n",
    "import importlib\n",
    "from scipy.optimize import curve_fit\n",
    "importlib.reload(earthscopestraintools)\n",
    "\n",
    "from earthscopestraintools.mseed_tools import ts_from_mseed\n",
    "from earthscopestraintools.gtsm_metadata import GtsmMetadata\n",
    "from earthscopestraintools.timeseries import Timeseries, plot_timeseries_comparison\n",
    "\n",
    "import dateutil\n",
    "import datetime\n",
    "import logging\n",
    "logger = logging.getLogger()\n",
    "logging.basicConfig(\n",
    "        format=\"%(message)s\", level=logging.INFO\n",
    "    )\n",
    "np.set_printoptions(suppress=True)"
   ]
  },
  {
   "cell_type": "markdown",
   "id": "35584ada",
   "metadata": {},
   "source": [
    "### Load the metadata for a station and view the available strain/calibration matrices\n",
    "note that CH_prelim has been renamed to CH2024, but usage of either name is supported for now"
   ]
  },
  {
   "cell_type": "code",
   "execution_count": null,
   "id": "d409458e",
   "metadata": {},
   "outputs": [],
   "source": [
    "#Please pick one of the TABOO-STAR stations for this example and select a ~week long time window\n",
    "network = 'IV'\n",
    "station = \n",
    "start = \n",
    "end = \n",
    "meta = GtsmMetadata(station=station,network=network)\n",
    "meta.strain_matrices"
   ]
  },
  {
   "cell_type": "markdown",
   "id": "035247a5",
   "metadata": {},
   "source": [
    "### Download some raw strain 1hz data"
   ]
  },
  {
   "cell_type": "code",
   "execution_count": null,
   "id": "9e8abe58",
   "metadata": {},
   "outputs": [],
   "source": [
    "strain_raw = \n",
    "strain_raw.stats()\n",
    "strain_raw.plot()\n",
    "strain_raw.data"
   ]
  },
  {
   "cell_type": "code",
   "execution_count": null,
   "id": "969ce9cf",
   "metadata": {},
   "outputs": [],
   "source": [
    "# decimate to 5 min data\n",
    "decimated_counts = \n",
    "print(decimated_counts.data)\n",
    "decimated_counts.stats()\n",
    "decimated_counts.plot()"
   ]
  },
  {
   "cell_type": "markdown",
   "id": "fb90f986",
   "metadata": {},
   "source": [
    "### Apply the different available calibrations"
   ]
  },
  {
   "cell_type": "code",
   "execution_count": null,
   "id": "771be328",
   "metadata": {},
   "outputs": [],
   "source": [
    "#linearize to microstrain and apply the lab calibration\n",
    "lab = \n",
    "lab.plot()"
   ]
  },
  {
   "cell_type": "code",
   "execution_count": null,
   "id": "c5531946",
   "metadata": {},
   "outputs": [],
   "source": [
    "#linearize to microstrain and apply the CH2024 calibration\n",
    "CH = \n",
    "CH.plot()"
   ]
  },
  {
   "cell_type": "code",
   "execution_count": null,
   "id": "499e43ca",
   "metadata": {},
   "outputs": [],
   "source": [
    "#apply the EM2024 calibration prior to any linearization\n",
    "EM = \n",
    "EM.plot()"
   ]
  },
  {
   "cell_type": "code",
   "execution_count": null,
   "id": "fea36fbe",
   "metadata": {},
   "outputs": [],
   "source": [
    "#make a comparison plot of the different calibrations\n",
    "plot_timeseries_comparison(timeseries=[EM, CH, lab], \n",
    "                           names = [\"EM\",\"CH\", \"lab\"], \n",
    "                           zero=True, \n",
    "                           detrend='linear', \n",
    "                           title=f'{station} calibration comparison')"
   ]
  }
 ],
 "metadata": {
  "kernelspec": {
   "display_name": "straintoolsdev",
   "language": "python",
   "name": "straintoolsdev"
  },
  "language_info": {
   "codemirror_mode": {
    "name": "ipython",
    "version": 3
   },
   "file_extension": ".py",
   "mimetype": "text/x-python",
   "name": "python",
   "nbconvert_exporter": "python",
   "pygments_lexer": "ipython3",
   "version": "3.9.7"
  }
 },
 "nbformat": 4,
 "nbformat_minor": 5
}
