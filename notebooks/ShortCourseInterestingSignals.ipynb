{
 "cells": [
  {
   "cell_type": "code",
   "execution_count": null,
   "id": "f382cac2-31ef-43c3-86ce-5ccedafd8082",
   "metadata": {},
   "outputs": [],
   "source": [
    "import numpy as np\n",
    "import pandas as pd\n",
    "from earthscopestraintools.mseed_tools import ts_from_mseed\n",
    "from earthscopestraintools.gtsm_metadata import GtsmMetadata\n",
    "from earthscopestraintools.timeseries import Timeseries, plot_timeseries_comparison\n",
    "\n",
    "import matplotlib.pyplot as plt\n",
    "\n",
    "import logging\n",
    "logger = logging.getLogger()\n",
    "logging.basicConfig(\n",
    "        format=\"%(message)s\", level=logging.INFO\n",
    "    )\n",
    "\n",
    "%load_ext autoreload\n",
    "%autoreload 2"
   ]
  },
  {
   "cell_type": "markdown",
   "metadata": {},
   "source": [
    "**Instructions for the activity:** \n",
    "\n",
    "For these partner exercises, you will have a station and date range to explore. Your goal is to identify an interesting signal, using ```earthscopestraintools``` to better visualize and understand potential causes of the anomolous strain. You may explore other datasets and conduct simple research to complement your work (e.g., are there other strainmeters nearby to analyze? where is the instrument and what could be causing the signal?) - however, we request that you do NOT dive into the scientific literature, and remain data driven in your explorations. We suggest you start with a 1 Hz sampling rate for <1 mo of data, and 10 minute sampling period for >1 mo of data. You may decide on a better sampling rate for your signal after preliminary analyses. **Compile information for your projects with visuals in a mini powerpoint presentation to share with the group - please share your processing workflow along with your preliminary conclusions, as well as any code, instrumental, or other complications you encountered and how you overcame the issues.**\n",
    "\n",
    "Other resources you may find useful for comparison: \n",
    "- [UNR map browse of GNSS stations with displacement timeseries](http://geodesy.unr.edu/NGLStationPages/gpsnetmap/GPSNetMap.html)\n",
    "- [EarthScope map browse of stations](https://www.unavco.org/instrumentation/networks/map/map.html#!/)\n",
    "- [USGS earthquake catalogue](https://earthquake.usgs.gov/earthquakes/search/)"
   ]
  },
  {
   "cell_type": "markdown",
   "metadata": {},
   "source": [
    "### Seiches at B944\n",
    "\n",
    ">Luttrell, K., Mencin, D., Francis, O. and Hurwitz, S. (2013), Constraints on the upper crustal magma reservoir beneath Yellowstone Caldera inferred from lake-seiche induced strain observations, Geophys. Res. Lett., 40, 501–506, doi:10.1002/grl.50155\n",
    "\n",
    "Suggestions: \n",
    "- Acquire metadata and data.\n",
    "- Remove trend, tides, and pressure from the signal. \n",
    "- Zoom in on the signal and characterize its period, amplitude, and emergence.\n",
    "- Take a look at the signal transformed to areal, differential, and shear strains. \n",
    "- Where is the station? What is around it that could be causeing the anomolous strain?\n",
    "- Locate the same signal in any neighboring stations, if there are any (suggest looking on the earthscope site for station locations).\n",
    "\n",
    "Starting point: \n",
    "```\n",
    "network = 'PB'\n",
    "station = 'B944'\n",
    "start = '2009-07-01'\n",
    "end = '2009-07-20'\n",
    "```\n",
    "\n"
   ]
  },
  {
   "cell_type": "code",
   "execution_count": null,
   "id": "458c924f-ffc1-4921-823b-2c12cd12a1b9",
   "metadata": {},
   "outputs": [],
   "source": [
    "# Gather data for seiches\n",
    "\n",
    "network = 'PB'\n",
    "station = 'B944'\n",
    "start = '2009-07-01'\n",
    "end = '2009-07-20'\n",
    "\n",
    "meta = GtsmMetadata(station=station,network=network)\n",
    "\n",
    "strain_raw = ts_from_mseed(network=network, station=station, location='T0', channel='LS*', start=start, end=end)\n",
    "gauge_microstrain = strain_raw.linearize(reference_strains=meta.reference_strains, gap=meta.gap)\n",
    "\n",
    "gauge_microstrain.stats()\n",
    "gauge_microstrain.plot()"
   ]
  },
  {
   "cell_type": "markdown",
   "metadata": {},
   "source": [
    "## 2019 Ridgecrest Earthquake Sequence\n",
    "\n",
    "> Hanagan et al., In Review.\n",
    "\n",
    "Two large magnitude earthquakes from the 2019 Ridgecrest Sequence with aftershocks and significant postseismic strain accumulation. \n",
    "\n",
    "Suggestions: \n",
    "- Acquire metadata and data\n",
    "- Remove trend, tides, and pressure from the signal. \n",
    "- Look at the signal from the gauges as transformed areal, differential, and shear strains.\n",
    "- Zoom in on the signal(s) and characterize what is happening before, during, and after the signal. \n",
    "- Where is the station? What is around it? What other data can help you tell what is happening at that time?\n",
    "- Locate the same signal in any neighboring stations that might corroborate findings. \n",
    "\n",
    "Starting point: \n",
    "```\n",
    "network = 'PB'\n",
    "station = 'B921'\n",
    "start = '2019-07-01'\n",
    "end = '2019-07-20'\n",
    "```"
   ]
  },
  {
   "cell_type": "code",
   "execution_count": null,
   "metadata": {},
   "outputs": [],
   "source": [
    "network = 'PB'\n",
    "station = 'B921'\n",
    "start = '2019-07-01'\n",
    "end = '2019-07-20'\n",
    "\n",
    "meta = GtsmMetadata(station=station,network=network)\n",
    "\n",
    "strain_raw = ts_from_mseed(network=network, station=station, location='T0', channel='LS*', start=start, end=end)\n",
    "gauge_microstrain = strain_raw.linearize(reference_strains=meta.reference_strains, gap=meta.gap)\n",
    "\n",
    "gauge_microstrain.stats()\n",
    "gauge_microstrain.plot()"
   ]
  },
  {
   "cell_type": "markdown",
   "metadata": {},
   "source": [
    "## Slow slip in Cascadia\n",
    "\n",
    "> Hawthorne, J. C., and A. M. Rubin (2010), Tidal modulation of slow slip in Cascadia, J. Geophys. Res., 115, B09406, doi:10.1029/2010JB007502.\n",
    "\n",
    "B004 will also show a slow slip event. \n",
    "\n",
    "Suggestions: \n",
    "- Acquire metadata and data (note the long period of time - 10 minute sample period might be a good starting point).\n",
    "- Remove trend, tides, and pressure from the signal. \n",
    "- Look at the signal from the gauges as transformed areal, differential, and shear strains.\n",
    "- Zoom in on the signal(s) and characterize what is happening before, during, and after the signal. \n",
    "- Where is the station? What is around it? What other data can help you tell what is happening at that time?\n",
    "- Locate the same signal in any neighboring stations that might corroborate findings. \n",
    "\n",
    "Starting point: \n",
    "```\n",
    "network = 'PB'\n",
    "station = 'B007'\n",
    "start = '2008-04-01'\n",
    "end = '2008-07-01'\n",
    "```"
   ]
  },
  {
   "cell_type": "code",
   "execution_count": null,
   "metadata": {},
   "outputs": [],
   "source": [
    "network = 'PB'\n",
    "station = 'B007'\n",
    "start = '2008-04-01'\n",
    "end = '2008-07-01'\n",
    "\n",
    "meta = GtsmMetadata(station=station,network=network)\n",
    "\n",
    "strain_raw = ts_from_mseed(network=network, station=station, location='T0', channel='RS*', start=start, end=end)\n",
    "gauge_microstrain = strain_raw.linearize(reference_strains=meta.reference_strains, gap=meta.gap)\n",
    "\n",
    "gauge_microstrain.stats()\n",
    "gauge_microstrain.plot()"
   ]
  },
  {
   "cell_type": "code",
   "execution_count": null,
   "metadata": {},
   "outputs": [],
   "source": [
    "# Corrections\n",
    "tide_c = gauge_microstrain.calculate_tide_correction(tidal_parameters=meta.tidal_params,longitude=meta.longitude)\n",
    "\n",
    "atmp_raw = ts_from_mseed(network=network,station=station,location='TS',channel='RDO',\n",
    "                     scale_factor=0.001,start=start,end=end)\n",
    "atmp = atmp_raw.interpolate(new_index=gauge_microstrain.data.index)\n",
    "atmp_c = atmp.calculate_pressure_correction(response_coefficients=meta.atmp_response)\n",
    "trend_c = gauge_microstrain.linear_trend_correction(method='median')"
   ]
  },
  {
   "cell_type": "code",
   "execution_count": null,
   "metadata": {},
   "outputs": [],
   "source": [
    "# Corrected regional strains\n",
    "corrected_microstrain = gauge_microstrain.apply_corrections([tide_c,atmp_c,trend_c])\n",
    "reg_strain = corrected_microstrain.apply_calibration_matrix(calibration_matrix=meta.strain_matrices['lab'])"
   ]
  },
  {
   "cell_type": "code",
   "execution_count": null,
   "metadata": {},
   "outputs": [],
   "source": [
    "reg_strain.plot()"
   ]
  },
  {
   "cell_type": "markdown",
   "metadata": {},
   "source": [
    "## Rain\n",
    "\n",
    "Canitano Floods September 15th and 16th, 2023.\n",
    "\n",
    "Suggestions: \n",
    "- Acquire metadata and data.\n",
    "- Remove trend, tides, and pressure from the signal. \n",
    "- Look at the signal from the gauges as transformed areal, differential, and shear strains.\n",
    "- Zoom in on the signal(s) and characterize what is happening before, during, and after the signal. \n",
    "- Where is the station? What is around it? What other data can help you tell what is happening at that time?\n",
    "- Locate other data that may be contributing to the signal, including data from neighboring stations that might corroborate findings. \n",
    "\n",
    "Starting point: \n",
    "```\n",
    "network = 'PB'\n",
    "station = 'B007'\n",
    "start = '2008-04-01'\n",
    "end = '2008-07-01'\n",
    "```\n",
    "\n"
   ]
  },
  {
   "cell_type": "code",
   "execution_count": null,
   "metadata": {},
   "outputs": [],
   "source": [
    "network = 'IV'\n",
    "station = 'TSM2'\n",
    "start = '2022-09-09'\n",
    "end = '2022-09-17'\n",
    "\n",
    "meta = GtsmMetadata(station=station,network=network)\n",
    "\n",
    "strain_raw = ts_from_mseed(network=network, station=station, location='T0', channel='LS*', start=start, end=end)\n",
    "gauge_microstrain = strain_raw.linearize(reference_strains=meta.reference_strains, gap=meta.gap)\n",
    "\n",
    "gauge_microstrain.stats()\n",
    "gauge_microstrain.plot()"
   ]
  },
  {
   "cell_type": "markdown",
   "metadata": {},
   "source": [
    "## Turkey Earthquake\n",
    "\n",
    "Teleseismic strains from the Turkey earthquake sequence, February 6th, 2023. \n",
    "\n",
    "Suggestions: \n",
    "- Acquire metadata and data.\n",
    "- Remove trend, tides, and pressure from the signal. \n",
    "- Look at the signal from the gauges as transformed areal, differential, and shear strains.\n",
    "- Zoom in on the signal(s) and characterize what is happening before, during, and after the signal. \n",
    "- Where is the station? What is around it? What other data can help you tell what is happening at that time?\n",
    "- Gather other data that describes what may be contributing to the signal, including data from neighboring stations that might corroborate findings. \n",
    "\n",
    "Starting point: \n",
    "```\n",
    "network = 'IV'\n",
    "station = 'TSM6'\n",
    "start = '2023-02-01'\n",
    "end = '2023-02-10'\n",
    "```\n"
   ]
  },
  {
   "cell_type": "code",
   "execution_count": null,
   "metadata": {},
   "outputs": [],
   "source": [
    "network = 'IV'\n",
    "station = 'TSM6'\n",
    "start = '2023-02-01'\n",
    "end = '2023-02-10'\n",
    "\n",
    "meta = GtsmMetadata(station=station,network=network)\n",
    "\n",
    "strain_raw = ts_from_mseed(network=network, station=station, location='T0', channel='LS*', start=start, end=end)\n",
    "gauge_microstrain = strain_raw.linearize(reference_strains=meta.reference_strains, gap=meta.gap)\n",
    "\n",
    "gauge_microstrain.stats()\n",
    "gauge_microstrain.plot()"
   ]
  },
  {
   "cell_type": "markdown",
   "metadata": {},
   "source": [
    "## Additional Activity\n",
    "\n",
    "Find another (or several!) creep events on B073, or another station you expect to find creep on. "
   ]
  }
 ],
 "metadata": {
  "kernelspec": {
   "display_name": "dev_venv",
   "language": "python",
   "name": "dev_venv"
  },
  "language_info": {
   "codemirror_mode": {
    "name": "ipython",
    "version": 3
   },
   "file_extension": ".py",
   "mimetype": "text/x-python",
   "name": "python",
   "nbconvert_exporter": "python",
   "pygments_lexer": "ipython3",
   "version": "3.9.7"
  },
  "vscode": {
   "interpreter": {
    "hash": "d8e1bda3f1d65dd04ed5c040a7a6aa0d5c2f26d480bed60ec8e407f39fbd3e53"
   }
  }
 },
 "nbformat": 4,
 "nbformat_minor": 5
}
