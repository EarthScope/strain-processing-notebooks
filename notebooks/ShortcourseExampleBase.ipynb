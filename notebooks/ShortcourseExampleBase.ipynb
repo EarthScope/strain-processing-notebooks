{
 "cells": [
  {
   "cell_type": "markdown",
   "metadata": {},
   "source": [
    "## Shortcourse Notebook\n",
    "\n",
    "We will take breaks from the powerpoint presentations to apply concepts learned in the course. Follow along as we go through these examples together, and feel free to take your own notes in this Jupyter Notebook for future reference. \n",
    "\n",
    "You can create new markdown cells (the cells like this one, with text but no python code) or double-click on the existing markdown cells to add text. Alternatively, you can put comments in your code cells, which are preceded by a ```#``` symbol. "
   ]
  },
  {
   "cell_type": "code",
   "execution_count": null,
   "metadata": {},
   "outputs": [],
   "source": [
    "# Import necessary modules \n",
    "from earthscopestraintools.mseed_tools import ts_from_mseed\n",
    "from earthscopestraintools.gtsm_metadata import GtsmMetadata\n",
    "from earthscopestraintools.timeseries import plot_timeseries_comparison\n",
    "\n",
    "# Establish logging session\n",
    "import logging\n",
    "logger = logging.getLogger()\n",
    "logging.basicConfig(\n",
    "        format=\"%(message)s\", level=logging.INFO\n",
    "    )\n"
   ]
  },
  {
   "cell_type": "markdown",
   "metadata": {},
   "source": [
    "## Aquire data and metadata\n",
    "\n",
    "**Exercise:** Gather metadata and 1 Hz raw data from B073 from May 5th, 2012 to May 10th, 2012 by filling in the blanks. \n",
    "\n",
    "Metadata is acquired using the [GtsmMetadata()](https://earthscopestraintools.readthedocs.io/en/latest/api/earthscopestraintools.gtsm_metadata.html#earthscopestraintools.gtsm_metadata.GtsmMetadata) function of the gtsm_metadata module, which we imported in the previous cell. Data can be acquired through the [ts_from_mseed()](https://earthscopestraintools.readthedocs.io/en/latest/api/earthscopestraintools.mseed_tools.html#earthscopestraintools.mseed_tools.ts_from_mseed) function in the mseed_tools module.\n",
    "\n",
    "More detailed description the seed codes to acquire the correct data are listed [here](https://earthscopestraintools.readthedocs.io/en/latest/pages/DataAvailability.html). And stucture of the Metadata and Timeseries classes that will hold information for our station and data are in the introductory material Metadata and Data Structures tabs in the [docs](https://earthscopestraintools.readthedocs.io/en/latest).\n"
   ]
  },
  {
   "cell_type": "code",
   "execution_count": null,
   "metadata": {},
   "outputs": [],
   "source": [
    "# Get metadata and data\n",
    "\n",
    "# First, set parameters for the seed code\n",
    "network = \n",
    "station = \n",
    "location = \n",
    "channel = \n",
    "\n",
    "#dates in ISO formatted strings \"YYYY-mm-ddTHH:MM:SS\"\n",
    "start = \n",
    "end = \n",
    "\n",
    "# Get the metadata using GtsmMetadata()\n",
    "#https://earthscopestraintools.readthedocs.io/en/latest/api/earthscopestraintools.gtsm_metadata.html\n",
    "meta = \n",
    "\n",
    "# Get the mseed data from the IRIS DMC using earthscopestraintools ts_from_mseed()\n",
    "#https://earthscopestraintools.readthedocs.io/en/latest/api/earthscopestraintools.mseed_tools.html#earthscopestraintools.mseed_tools.ts_from_mseed\n",
    "strain_raw = "
   ]
  },
  {
   "cell_type": "code",
   "execution_count": null,
   "metadata": {},
   "outputs": [],
   "source": [
    "# Examine the metadata contents through the .show() call \n",
    "meta"
   ]
  },
  {
   "cell_type": "code",
   "execution_count": null,
   "metadata": {},
   "outputs": [],
   "source": [
    "# Run this code cell to look at available attributes and functions of strain_raw\n",
    "print('Attributes:')\n",
    "funcs = []\n",
    "print(list(vars(strain_raw).keys()))\n",
    "for s in dir(strain_raw): \n",
    "    if s.startswith('_') != True and s not in vars(strain_raw).keys(): funcs.append(s)\n",
    "print('Functions')\n",
    "print(funcs)\n"
   ]
  },
  {
   "cell_type": "code",
   "execution_count": null,
   "metadata": {},
   "outputs": [],
   "source": [
    "# Preview the data of strain_raw with the data attribute\n",
    "strain_raw."
   ]
  },
  {
   "cell_type": "code",
   "execution_count": null,
   "metadata": {},
   "outputs": [],
   "source": [
    "# Use one of the functions to plot the data\n",
    "strain_raw."
   ]
  },
  {
   "cell_type": "markdown",
   "metadata": {},
   "source": [
    "## Filter and decimate to 5 minutes\n",
    "\n",
    "There appears to be an interesting signal on the 8th of May... but 1 sps data is overkill for analyzing the signal. To decrease later computation time, let's filter and decimate the data to a 5 minute sample period. \n",
    "\n",
    "**Exercise:** Apply the filtering function designed according to specifications in [Agnew and Hodgkinson, 2008](https://pubs.geoscienceworld.org/ssa/bssa/article/97/1B/91/146607/Designing-Compact-Causal-Digital-Filters-for-Low?casa_token=_GVDmXKT-RAAAAAA:PPJHivgGPh2x1dbRv0BYgio-vRkUMX44unECYJoHH6tYCmloKOkGloE0paUrkmEWaD6avQ) with the [decimate_1s_to_300s()](https://earthscopestraintools.readthedocs.io/en/latest/api/earthscopestraintools.timeseries.html#earthscopestraintools.timeseries.Timeseries.decimate_1s_to_300s) function in the timeseries module."
   ]
  },
  {
   "cell_type": "code",
   "execution_count": null,
   "metadata": {},
   "outputs": [],
   "source": [
    "# Filter and decimate strain_raw\n",
    "strain_raw5min = "
   ]
  },
  {
   "cell_type": "markdown",
   "metadata": {},
   "source": [
    "## Linearization\n",
    "\n",
    "**Exercise:** Convert the raw data in counts to microstrain through the [linearize()](https://earthscopestraintools.readthedocs.io/en/latest/api/earthscopestraintools.timeseries.html#earthscopestraintools.timeseries.Timeseries.linearize) function of the timeseries module. Find this function in the docs, and note that reference strains can be found in the metadata. "
   ]
  },
  {
   "cell_type": "code",
   "execution_count": null,
   "metadata": {},
   "outputs": [],
   "source": [
    "# Linearize\n",
    "gauge_microstrain = \n",
    "# Preview the data\n",
    "gauge_microstrain.data"
   ]
  },
  {
   "cell_type": "markdown",
   "metadata": {},
   "source": [
    "## Calculate regional strains\n",
    "\n",
    "**Exercise:** Examine and apply the available calibration matrices to produce regional areal, differential, and engineering shear strains. Use [apply_calibration_matrix()](https://earthscopestraintools.readthedocs.io/en/latest/api/earthscopestraintools.timeseries.html#earthscopestraintools.timeseries.Timeseries.apply_calibration_matrix) to apply the calibrations.  Use [plot_timeseries_comparison()](https://earthscopestraintools.readthedocs.io/en/latest/api/earthscopestraintools.timeseries.html#earthscopestraintools.timeseries.plot_timeseries_comparison) to view the two calibrations on the same plot"
   ]
  },
  {
   "cell_type": "code",
   "execution_count": null,
   "metadata": {},
   "outputs": [],
   "source": [
    "# Which strain matrices are available in the metadata?\n",
    "# the calibration matrices are found in a dictionary object \n",
    "# within the metadata called with the .strain_matrices attribute\n",
    "meta."
   ]
  },
  {
   "cell_type": "code",
   "execution_count": null,
   "metadata": {},
   "outputs": [],
   "source": [
    "# Apply both strain matrices to the gauge microstrain\n",
    "lab_strain = \n",
    "tide_strain = "
   ]
  },
  {
   "cell_type": "code",
   "execution_count": null,
   "metadata": {},
   "outputs": [],
   "source": [
    "# Use the plot_timeseries_comparison() function to plot \n",
    "# a comparison of regional strains\n",
    "plot_timeseries_comparison()"
   ]
  },
  {
   "cell_type": "markdown",
   "metadata": {},
   "source": [
    "## Signal correction\n",
    "\n",
    "**Exercise:** Correct the gauge strain timeseries for barometric pressure, tides, trend and optionally offsets. \n"
   ]
  },
  {
   "cell_type": "markdown",
   "metadata": {},
   "source": [
    "### Barometric Pressure Correction\n",
    "\n",
    "Seed codes for applying the pressure correction are listed on this [page](https://earthscopestraintools.readthedocs.io/en/latest/pages/DataAvailability.html).\n",
    "You will need to interpolate the data so the timestamps align to be able to apply the correction.  \n",
    "\n",
    "Use [interpolate()](https://earthscopestraintools.readthedocs.io/en/latest/api/earthscopestraintools.timeseries.html#earthscopestraintools.timeseries.Timeseries.interpolate) and provide the strain data index as a new_index\n",
    "\n",
    "You can use [apply_corrections()](https://earthscopestraintools.readthedocs.io/en/latest/api/earthscopestraintools.timeseries.html#earthscopestraintools.timeseries.Timeseries.apply_corrections) to correct the data."
   ]
  },
  {
   "cell_type": "code",
   "execution_count": null,
   "metadata": {},
   "outputs": [],
   "source": [
    "# First, get the atmospheric pressure data using ts_from_mseed()\n",
    "atmp = "
   ]
  },
  {
   "cell_type": "code",
   "execution_count": null,
   "metadata": {},
   "outputs": [],
   "source": [
    "# Plot the pressure data\n",
    "atmp."
   ]
  },
  {
   "cell_type": "code",
   "execution_count": null,
   "metadata": {},
   "outputs": [],
   "source": [
    "# Examine the pressure response coefficients per gauge\n",
    "# in microstrain/hPa\n",
    "meta."
   ]
  },
  {
   "cell_type": "code",
   "execution_count": null,
   "metadata": {},
   "outputs": [],
   "source": [
    "# Interpolate the pressure data to the gauge strain timestamps using the \n",
    "# interpolate() function and providing a new_index\n",
    "atmp_interp = "
   ]
  },
  {
   "cell_type": "code",
   "execution_count": null,
   "metadata": {},
   "outputs": [],
   "source": [
    "# Calculate the pressure correction using the \n",
    "# calculate_pressure_correction() function with atmp_response\n",
    "# coefficients in the metadata\n",
    "atmp_c = "
   ]
  },
  {
   "cell_type": "code",
   "execution_count": null,
   "metadata": {},
   "outputs": [],
   "source": [
    "# Plot the uncorrected and pressure corrected timeseries\n",
    "# The .apply_corrections() function is useful for correcting the gauge strain\n"
   ]
  },
  {
   "cell_type": "markdown",
   "metadata": {},
   "source": [
    "### Tide Correction\n",
    "\n",
    "The method [calculate_tide_correction()](https://earthscopestraintools.readthedocs.io/en/latest/api/earthscopestraintools.timeseries.html#earthscopestraintools.timeseries.Timeseries.calculate_tide_correction) will run SPOTL (Some Programs for Ocean Tide Loading; Agnew, 2012), a fortran program in the docker container.\n"
   ]
  },
  {
   "cell_type": "code",
   "execution_count": null,
   "metadata": {},
   "outputs": [],
   "source": [
    "# Take a look at the metadata for the tides by inspecting the \n",
    "# tidal_params attribute\n",
    "meta."
   ]
  },
  {
   "cell_type": "code",
   "execution_count": null,
   "metadata": {},
   "outputs": [],
   "source": [
    "# Calculate tidal corrections for each gauge using the\n",
    "# calculate_tide_correction() function with the tidal_params and station longitude\n",
    "tide_c = "
   ]
  },
  {
   "cell_type": "markdown",
   "metadata": {},
   "source": [
    "### Trend Correction\n",
    "\n",
    "Use [linear_trend_correction()](https://earthscopestraintools.readthedocs.io/en/latest/api/earthscopestraintools.processing.html#earthscopestraintools.processing.calculate_linear_trend_correction) to compute the linear trend.  "
   ]
  },
  {
   "cell_type": "code",
   "execution_count": null,
   "metadata": {},
   "outputs": [],
   "source": [
    "# Calculate the trend correction for each gauge\n",
    "# Sometimes correcting for pressure first is best, \n",
    "# because the pressure can have its own trend\n",
    "trend_c = "
   ]
  },
  {
   "cell_type": "code",
   "execution_count": null,
   "metadata": {},
   "outputs": [],
   "source": [
    "# Plot various applied corrections to see the effect on the final corrected strain\n",
    "trend_corrected_gauge_microstrain = \n",
    "trend_pressure_corrected_gauge_microstrain = \n",
    "trend_pressure_tide_corrected_gauge_microstrain = \n",
    "\n",
    "plot_timeseries_comparison([gauge_microstrain,\n",
    "                            trend_corrected_gauge_microstrain,\n",
    "                            trend_pressure_corrected_gauge_microstrain,\n",
    "                            trend_pressure_tide_corrected_gauge_microstrain],\n",
    "                            zero=True,\n",
    "                            names=['Original','+Trend Corrected','+Pressure Corrected','+Tide Corrected'])"
   ]
  },
  {
   "cell_type": "markdown",
   "metadata": {},
   "source": [
    "### Offset correction\n",
    "\n",
    "See how the simple offset correction calculation is implemented in [calculate_offsets()](https://earthscopestraintools.readthedocs.io/en/latest/api/earthscopestraintools.processing.html#earthscopestraintools.processing.calculate_offsets)."
   ]
  },
  {
   "cell_type": "code",
   "execution_count": null,
   "metadata": {},
   "outputs": [],
   "source": [
    "# Calculate offsets via first differencing above a cutoff limit \n",
    "# adjusted to the noise of the data\n",
    "\n",
    "offset_c = "
   ]
  },
  {
   "cell_type": "code",
   "execution_count": null,
   "metadata": {},
   "outputs": [],
   "source": [
    "# Plot the offset corrections\n",
    "# try adjusting the offset calculation parameters in the previous cell to see their effect\n"
   ]
  },
  {
   "cell_type": "markdown",
   "metadata": {},
   "source": [
    "**Whether you choose to apply these offsets is up to you, depending on your purpose forusing the data.**"
   ]
  },
  {
   "cell_type": "markdown",
   "metadata": {},
   "source": [
    "## Tectonic or Nontectonic?\n",
    "\n",
    "This can be hard to say the origin of a signal sometimes, but one common environmental factor that causes seemingly anomolous strains is rainfall. Let's get the data and examine the timing of rainfall relative to the change in the strain time series. Here is the [FDSN seed code table](https://earthscopestraintools.readthedocs.io/en/latest/pages/DataAvailability.html) again for reference.  Also see [plot()](https://earthscopestraintools.readthedocs.io/en/latest/api/earthscopestraintools.timeseries.html#earthscopestraintools.timeseries.Timeseries.plot) for documentation on how to add a rainfall subplot.\n"
   ]
  },
  {
   "cell_type": "code",
   "execution_count": null,
   "metadata": {},
   "outputs": [],
   "source": [
    "# First, let's transform the corrected gauge strain to regional strain\n",
    "corrected_regional_strain = "
   ]
  },
  {
   "cell_type": "code",
   "execution_count": null,
   "metadata": {},
   "outputs": [],
   "source": [
    "# Get the rainfall data using ts_from_mseed()\n",
    "rain = "
   ]
  },
  {
   "cell_type": "code",
   "execution_count": null,
   "metadata": {},
   "outputs": [],
   "source": [
    "# Plot the corrected regional strains with rainfall \n",
    "# and atmospheric pressure \n"
   ]
  },
  {
   "cell_type": "markdown",
   "metadata": {},
   "source": [
    "## Strain axes\n",
    "\n",
    "Let's look at the strain axes alignment in a gif animation. Use [strain_video()](https://earthscopestraintools.readthedocs.io/en/latest/api/earthscopestraintools.timeseries.html#earthscopestraintools.timeseries.Timeseries.strain_video)."
   ]
  },
  {
   "cell_type": "code",
   "execution_count": null,
   "metadata": {},
   "outputs": [],
   "source": [
    "# Strain gif using strain_video() function\n",
    "%matplotlib widget\n"
   ]
  }
 ],
 "metadata": {
  "kernelspec": {
   "display_name": "earthscopestraintools",
   "language": "python",
   "name": "python3"
  },
  "language_info": {
   "codemirror_mode": {
    "name": "ipython",
    "version": 3
   },
   "file_extension": ".py",
   "mimetype": "text/x-python",
   "name": "python",
   "nbconvert_exporter": "python",
   "pygments_lexer": "ipython3",
   "version": "3.11.5"
  }
 },
 "nbformat": 4,
 "nbformat_minor": 2
}
