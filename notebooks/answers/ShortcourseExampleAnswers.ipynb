{
 "cells": [
  {
   "cell_type": "markdown",
   "metadata": {},
   "source": [
    "## This notebook contains the filled in code for ShortcourseExampleBase.ipynb"
   ]
  },
  {
   "cell_type": "code",
   "execution_count": null,
   "metadata": {},
   "outputs": [],
   "source": [
    "# Import necessary modules \n",
    "from earthscopestraintools.mseed_tools import ts_from_mseed\n",
    "from earthscopestraintools.gtsm_metadata import GtsmMetadata\n",
    "from earthscopestraintools.timeseries import plot_timeseries_comparison\n",
    "\n",
    "# Establish logging session\n",
    "import logging\n",
    "logger = logging.getLogger()\n",
    "logging.basicConfig(\n",
    "        format=\"%(message)s\", level=logging.INFO\n",
    "    )\n"
   ]
  },
  {
   "cell_type": "markdown",
   "metadata": {},
   "source": [
    "## Aquire data and metadata\n"
   ]
  },
  {
   "cell_type": "code",
   "execution_count": null,
   "metadata": {},
   "outputs": [],
   "source": [
    "# Get metadata and data\n",
    "\n",
    "# First, set parameters for the seed code\n",
    "network = 'PB' \n",
    "station = 'B073'\n",
    "location = 'T0' # The location code for strain is T0\n",
    "sample_rate = 'LS*' # LS = 1 Hz, * denotes data from all 4 gauges should be acquired\n",
    "\n",
    "start = '2012-05-05T00:00:00.00'\n",
    "end = '2012-05-10T00:00:00.00'\n",
    "\n",
    "# Get the metadata\n",
    "meta = GtsmMetadata(network=network,station=station)\n",
    "\n",
    "# Get the data from the IRIS DMC \n",
    "strain_raw = ts_from_mseed(network=network,station=station,location=location,channel=sample_rate,start=start,end=end)\n"
   ]
  },
  {
   "cell_type": "code",
   "execution_count": null,
   "metadata": {},
   "outputs": [],
   "source": [
    "# Examine the metadata contents through the .show() call \n",
    "meta.show()"
   ]
  },
  {
   "cell_type": "code",
   "execution_count": null,
   "metadata": {},
   "outputs": [],
   "source": [
    "# Run this code cellto look at available attributes and functions of strain_raw\n",
    "print('Attributes:')\n",
    "funcs = []\n",
    "print(list(vars(strain_raw).keys()))\n",
    "for s in dir(strain_raw): \n",
    "    if s.startswith('_') != True and s not in vars(strain_raw).keys(): funcs.append(s)\n",
    "print('Functions')\n",
    "print(funcs)\n"
   ]
  },
  {
   "cell_type": "code",
   "execution_count": null,
   "metadata": {},
   "outputs": [],
   "source": [
    "# Preview the data with the attribute\n",
    "strain_raw.data"
   ]
  },
  {
   "cell_type": "code",
   "execution_count": null,
   "metadata": {},
   "outputs": [],
   "source": [
    "# Use one of the functions to plot the data\n",
    "strain_raw.plot()"
   ]
  },
  {
   "cell_type": "markdown",
   "metadata": {},
   "source": [
    "## Filter and decimate to 5 minutes\n"
   ]
  },
  {
   "cell_type": "code",
   "execution_count": null,
   "metadata": {},
   "outputs": [],
   "source": [
    "strain_raw5min = strain_raw.decimate_1s_to_300s()"
   ]
  },
  {
   "cell_type": "markdown",
   "metadata": {},
   "source": [
    "## Linearization\n"
   ]
  },
  {
   "cell_type": "code",
   "execution_count": null,
   "metadata": {},
   "outputs": [],
   "source": [
    "# Linearize\n",
    "gauge_microstrain = strain_raw5min.linearize(reference_strains=meta.reference_strains,gap=meta.gap)\n",
    "# Preview the data\n",
    "gauge_microstrain.data"
   ]
  },
  {
   "cell_type": "markdown",
   "metadata": {},
   "source": [
    "## Calculate regional strains"
   ]
  },
  {
   "cell_type": "code",
   "execution_count": null,
   "metadata": {},
   "outputs": [],
   "source": [
    "# Which strain matrices are available in the metadata?\n",
    "meta.strain_matrices"
   ]
  },
  {
   "cell_type": "code",
   "execution_count": null,
   "metadata": {},
   "outputs": [],
   "source": [
    "# Apply both strain matrices to the gauge microstrain\n",
    "lab_strain = gauge_microstrain.apply_calibration_matrix(meta.strain_matrices['lab'])\n",
    "tide_strain = gauge_microstrain.apply_calibration_matrix(meta.strain_matrices['ER2010'])"
   ]
  },
  {
   "cell_type": "code",
   "execution_count": null,
   "metadata": {},
   "outputs": [],
   "source": [
    "# Use a tool to plot a comparison of the matrices\n",
    "plot_timeseries_comparison([lab_strain,tide_strain],names=['lab','Roeloffs 2010 tide'],zero=True)"
   ]
  },
  {
   "cell_type": "markdown",
   "metadata": {},
   "source": [
    "## Signal correction"
   ]
  },
  {
   "cell_type": "markdown",
   "metadata": {},
   "source": [
    "### Barometric Pressure Correction\n"
   ]
  },
  {
   "cell_type": "code",
   "execution_count": null,
   "metadata": {},
   "outputs": [],
   "source": [
    "# First, get the atmospheric pressure data\n",
    "atmp = ts_from_mseed(network=network,station=station,location='TS',channel='RDO',\n",
    "                     scale_factor=0.001,start=start,end=end) # scale factor"
   ]
  },
  {
   "cell_type": "code",
   "execution_count": null,
   "metadata": {},
   "outputs": [],
   "source": [
    "# Plot the correction\n",
    "atmp.plot()"
   ]
  },
  {
   "cell_type": "code",
   "execution_count": null,
   "metadata": {},
   "outputs": [],
   "source": [
    "# Examine the pressure response coefficients per gauge\n",
    "# in microstrain/hPa\n",
    "meta.atmp_response"
   ]
  },
  {
   "cell_type": "code",
   "execution_count": null,
   "metadata": {},
   "outputs": [],
   "source": [
    "# Interpolate the pressure data to the timeseries\n",
    "atmp_interp = atmp.interpolate(new_index=gauge_microstrain.data.index, series='hpa')"
   ]
  },
  {
   "cell_type": "code",
   "execution_count": null,
   "metadata": {},
   "outputs": [],
   "source": [
    "# Calculate the pressure correction\n",
    "atmp_c = atmp_interp.calculate_pressure_correction(response_coefficients=meta.atmp_response)"
   ]
  },
  {
   "cell_type": "code",
   "execution_count": null,
   "metadata": {},
   "outputs": [],
   "source": [
    "# Plot the applied corrections\n",
    "# The .apply_corrections() function is useful for this purpose\n",
    "plot_timeseries_comparison([gauge_microstrain,gauge_microstrain.apply_corrections([atmp_c])],\n",
    "                           ['Original','Pressure Corrected'],zero=True)"
   ]
  },
  {
   "cell_type": "markdown",
   "metadata": {},
   "source": [
    "### Tide Correction\n"
   ]
  },
  {
   "cell_type": "code",
   "execution_count": null,
   "metadata": {},
   "outputs": [],
   "source": [
    "# Take a look at the metadata for the tides\n",
    "meta.tidal_params"
   ]
  },
  {
   "cell_type": "code",
   "execution_count": null,
   "metadata": {},
   "outputs": [],
   "source": [
    "# Calculate tidal corrections for each gauge\n",
    "tide_c = gauge_microstrain.calculate_tide_correction(tidal_parameters=meta.tidal_params,\n",
    "                                                     longitude=meta.longitude)"
   ]
  },
  {
   "cell_type": "markdown",
   "metadata": {},
   "source": [
    "### Trend Correction\n"
   ]
  },
  {
   "cell_type": "code",
   "execution_count": null,
   "metadata": {},
   "outputs": [],
   "source": [
    "# Calculate the trend correction for each gauge\n",
    "# Sometimes correcting for pressure first is the best bet\n",
    "# because the pressure can have its own trend\n",
    "trend_c = gauge_microstrain.apply_corrections([atmp_c]).linear_trend_correction(method='linear')\n"
   ]
  },
  {
   "cell_type": "code",
   "execution_count": null,
   "metadata": {},
   "outputs": [],
   "source": [
    "# Plot various applied corrections\n",
    "p1 = gauge_microstrain.apply_corrections([trend_c])\n",
    "p2 = gauge_microstrain.apply_corrections([trend_c,atmp_c])\n",
    "gauge_strain_corr = gauge_microstrain.apply_corrections([trend_c,atmp_c,tide_c])\n",
    "\n",
    "plot_timeseries_comparison([gauge_microstrain,p1,p2,gauge_strain_corr],zero=True,\n",
    "                           names=['Original','+Trend Corrected','+Pressure Corrected','+Tide Corrected'])"
   ]
  },
  {
   "cell_type": "markdown",
   "metadata": {},
   "source": [
    "### Offset correction\n"
   ]
  },
  {
   "cell_type": "code",
   "execution_count": null,
   "metadata": {},
   "outputs": [],
   "source": [
    "# Calculate offsets via first differencing above a cutoff limit \n",
    "# adjusted to the noise of the data\n",
    "\n",
    "offset_c = gauge_strain_corr.calculate_offsets(limit_multiplier=100,cutoff_percentile=0.75)\n"
   ]
  },
  {
   "cell_type": "code",
   "execution_count": null,
   "metadata": {},
   "outputs": [],
   "source": [
    "# Plot the offset corrections\n",
    "# try adjusting the offset calculation parameters in the previous cell to see their effect\n",
    "\n",
    "plot_timeseries_comparison([gauge_strain_corr,gauge_strain_corr.apply_corrections([offset_c])],\n",
    "                           names=['Gauge Strain','Offsets Removed'])"
   ]
  },
  {
   "cell_type": "markdown",
   "metadata": {},
   "source": [
    "**Whether you choose to apply these offsets is up to you, depending on your purpose forusing the data.**"
   ]
  },
  {
   "cell_type": "markdown",
   "metadata": {},
   "source": [
    "## Tectonic or Nontectonic?\n",
    "\n"
   ]
  },
  {
   "cell_type": "code",
   "execution_count": null,
   "metadata": {},
   "outputs": [],
   "source": [
    "# First, let's transform the corrected gauge strain to regional strain\n",
    "reg_strain_corr = gauge_strain_corr.apply_calibration_matrix(meta.strain_matrices['ER2010'])"
   ]
  },
  {
   "cell_type": "code",
   "execution_count": null,
   "metadata": {},
   "outputs": [],
   "source": [
    "# Get the rainfall data\n",
    "rain = ts_from_mseed(network=network,station=station,location='TS',channel='RRO',start=start,end=end,scale_factor=0.0001)"
   ]
  },
  {
   "cell_type": "code",
   "execution_count": null,
   "metadata": {},
   "outputs": [],
   "source": [
    "# Plot the rainfall with the corrected regional strains\n",
    "# Look for residual pressure as well\n",
    "%matplotlib inline\n",
    "import matplotlib.pyplot as plt\n",
    "plt.close('all')\n",
    "reg_strain_corr.plot(rainfall=rain,atmp=atmp)"
   ]
  },
  {
   "cell_type": "markdown",
   "metadata": {},
   "source": [
    "## Strain axes\n"
   ]
  },
  {
   "cell_type": "code",
   "execution_count": null,
   "metadata": {},
   "outputs": [],
   "source": [
    "# Strain gif\n",
    "%matplotlib widget\n",
    "reg_strain_corr.strain_video(start='2012-05-08T20:00:00',end='2012-05-08T23:00:00',\n",
    "                             interval=100)"
   ]
  },
  {
   "cell_type": "markdown",
   "metadata": {},
   "source": [
    "## Include modeling example?"
   ]
  }
 ],
 "metadata": {
  "kernelspec": {
   "display_name": "earthscopestraintools",
   "language": "python",
   "name": "python3"
  },
  "language_info": {
   "codemirror_mode": {
    "name": "ipython",
    "version": 3
   },
   "file_extension": ".py",
   "mimetype": "text/x-python",
   "name": "python",
   "nbconvert_exporter": "python",
   "pygments_lexer": "ipython3",
   "version": "3.12.0"
  }
 },
 "nbformat": 4,
 "nbformat_minor": 2
}
