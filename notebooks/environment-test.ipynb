{
 "cells": [
  {
   "cell_type": "markdown",
   "id": "238e8a50-9613-40e1-9a8a-de7395c8c237",
   "metadata": {},
   "source": [
    "# Environment Test\n",
    "Run this notebook as an initial test that the docker environment is working as expected.  \n",
    "The goal is to confirm that earthscopestraintools is installed properly, as well as the fortran program 'hartid' which is used to generate tidal corrections.\n",
    "\n",
    "If all the cells run, and the last cell makes a plot with sinusoids, then this environment should be working."
   ]
  },
  {
   "cell_type": "code",
   "execution_count": null,
   "id": "e3a655ed-9e5e-48bc-8027-0b3dbffd6e3a",
   "metadata": {
    "tags": []
   },
   "outputs": [],
   "source": [
    "#confirm earthscopestraintools is installed and which version\n",
    "!pip show earthscopestraintools"
   ]
  },
  {
   "cell_type": "code",
   "execution_count": null,
   "id": "8118e5af-552e-4217-b405-d3bca55e0237",
   "metadata": {
    "tags": []
   },
   "outputs": [],
   "source": [
    "#confirm the spotl program hartid is installed and available in your path\n",
    "! which hartid"
   ]
  },
  {
   "cell_type": "code",
   "execution_count": null,
   "id": "88f65d49-eede-420f-80c3-b003b75b79a2",
   "metadata": {
    "tags": []
   },
   "outputs": [],
   "source": [
    "#confirm baytap08 is installed and available in your path\n",
    "! which baytap08"
   ]
  },
  {
   "cell_type": "code",
   "execution_count": null,
   "id": "ad83f3cd-24a1-424b-b532-b340c15d25c7",
   "metadata": {
    "tags": []
   },
   "outputs": [],
   "source": [
    "# import some basic modules from earthscopestraintools and configure logging to appear in the notebook\n",
    "from earthscopestraintools.mseed_tools import ts_from_mseed\n",
    "from earthscopestraintools.gtsm_metadata import GtsmMetadata\n",
    "import logging\n",
    "logger = logging.getLogger()\n",
    "logging.basicConfig(\n",
    "        format=\"%(message)s\", level=logging.INFO\n",
    "    )"
   ]
  },
  {
   "cell_type": "code",
   "execution_count": null,
   "id": "1d7dbe8c-d7d1-4944-a6f8-541724de3321",
   "metadata": {
    "tags": []
   },
   "outputs": [],
   "source": [
    "#download some metadata and 10 min strain data\n",
    "network = 'IV'\n",
    "station = 'TSM2'\n",
    "meta = GtsmMetadata(network,station)\n",
    "start=\"2023-11-01T00:00:00\"\n",
    "end = \"2023-11-08T00:00:00\"\n",
    "strain_raw = ts_from_mseed(network=network, station=station, location='T0', channel='RS*', start=start, end=end)\n",
    "strain_raw.stats()"
   ]
  },
  {
   "cell_type": "code",
   "execution_count": null,
   "id": "0f85c80e-bdc5-44ec-9fa3-7e16e21c4ba9",
   "metadata": {},
   "outputs": [],
   "source": [
    "#convert raw counts to microstrain\n",
    "name = f\"{network}.{station}.gauge.microstrain\"\n",
    "gauge_microstrain = strain_raw.linearize(reference_strains=meta.reference_strains, gap=meta.gap, name=name)\n",
    "gauge_microstrain.stats()"
   ]
  },
  {
   "cell_type": "code",
   "execution_count": null,
   "id": "b36f2c2f-5caf-4cc3-b3b6-ee5a46d1a61e",
   "metadata": {
    "tags": []
   },
   "outputs": [],
   "source": [
    "#this cell runs hartid to calculate a tidal correction.  If it works, you should see 4 plots of sinusoids\n",
    "name = f\"{network}.{station}.gauge.tide_c\"\n",
    "tide_c = gauge_microstrain.calculate_tide_correction(tidal_parameters=meta.tidal_params, longitude=meta.longitude, name=name)\n",
    "tide_c.plot()"
   ]
  },
  {
   "cell_type": "code",
   "execution_count": null,
   "id": "c51ff992-5937-40f1-a23b-7948d45a3537",
   "metadata": {},
   "outputs": [],
   "source": []
  }
 ],
 "metadata": {
  "kernelspec": {
   "display_name": "venv",
   "language": "python",
   "name": "venv"
  },
  "language_info": {
   "codemirror_mode": {
    "name": "ipython",
    "version": 3
   },
   "file_extension": ".py",
   "mimetype": "text/x-python",
   "name": "python",
   "nbconvert_exporter": "python",
   "pygments_lexer": "ipython3",
   "version": "3.9.7"
  }
 },
 "nbformat": 4,
 "nbformat_minor": 5
}
