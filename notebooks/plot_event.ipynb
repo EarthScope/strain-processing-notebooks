{
 "cells": [
  {
   "cell_type": "markdown",
   "id": "019cf111-1a9e-493d-8f00-c542973bfadc",
   "metadata": {
    "tags": []
   },
   "source": [
    "## Example of looking at high rate event data from a strainmeter"
   ]
  },
  {
   "cell_type": "code",
   "execution_count": null,
   "id": "a70c599f",
   "metadata": {},
   "outputs": [],
   "source": [
    "import numpy as np\n",
    "import pandas as pd\n",
    "import math\n",
    "from earthscopestraintools.mseed_tools import ts_from_mseed\n",
    "from earthscopestraintools.gtsm_metadata import GtsmMetadata\n",
    "from earthscopestraintools.timeseries import Timeseries\n",
    "from earthscopestraintools.event import Earthquake\n",
    "from earthscopestraintools.event_processing import calc_hypocentral_dist, magnitude_plot, plot_coseismic_offset\n",
    "from datetime import datetime, timedelta\n",
    "\n",
    "import logging\n",
    "logger = logging.getLogger()\n",
    "logging.basicConfig(\n",
    "        format=\"%(message)s\", level=logging.INFO\n",
    "    )"
   ]
  },
  {
   "cell_type": "code",
   "execution_count": null,
   "id": "b8f18a2f",
   "metadata": {},
   "outputs": [],
   "source": [
    "network = 'IV'\n",
    "station = 'TSM3'\n",
    "meta = GtsmMetadata(network,station)"
   ]
  },
  {
   "cell_type": "markdown",
   "id": "da955c3a-568f-489d-976f-3311f746cafd",
   "metadata": {},
   "source": [
    "### Load event data based on USGS event_id"
   ]
  },
  {
   "cell_type": "code",
   "execution_count": null,
   "id": "54c3396c-b0b4-4ae7-a0c3-bbfa77ecff05",
   "metadata": {},
   "outputs": [],
   "source": [
    "eq = Earthquake(event_id = \"us7000jiky\")\n",
    "#eq = Earthquake(event_id = \"us7000jiim\")\n",
    "hypocentral_distance = calc_hypocentral_dist(eq.lat,\n",
    "                                                 eq.long,\n",
    "                                                 eq.depth,\n",
    "                                                 meta.latitude,\n",
    "                                                 meta.longitude)\n",
    "print(f\"USGS Magnitude {eq.mag} at {hypocentral_distance} km at {eq.time}\") \n",
    "meta.get_event_terms()"
   ]
  },
  {
   "cell_type": "markdown",
   "id": "5258c5cc-8c7c-447c-826a-00a5463413e4",
   "metadata": {},
   "source": [
    "### Load raw strain data"
   ]
  },
  {
   "cell_type": "code",
   "execution_count": null,
   "id": "5f6aac8a-62c5-4a58-b460-d1830a31d582",
   "metadata": {},
   "outputs": [],
   "source": [
    "period = 20\n",
    "start = (eq.time - timedelta(seconds=15)).strftime(\"%Y-%m-%dT%H:%M:%S\")\n",
    "end = (eq.time + timedelta(seconds=60)).strftime(\"%Y-%m-%dT%H:%M:%S\")\n",
    "strain_raw = ts_from_mseed(network=network, station=station, location='T0', channel='BS*', start=start, end=end)\n",
    "strain_raw.stats()\n",
    "strain_raw.plot(type='line')"
   ]
  },
  {
   "cell_type": "markdown",
   "id": "3cdf1472-f234-49d9-bfa2-32e5b4f9c657",
   "metadata": {},
   "source": [
    "### Convert counts to microstrain"
   ]
  },
  {
   "cell_type": "code",
   "execution_count": null,
   "id": "9b4a9c77-f233-46ad-aa7c-fae1bf0ffc21",
   "metadata": {},
   "outputs": [],
   "source": [
    "gauge_microstrain = strain_raw.linearize(reference_strains=meta.reference_strains, gap=meta.gap)\n",
    "gauge_microstrain.stats()\n"
   ]
  },
  {
   "cell_type": "markdown",
   "id": "575203d1-3983-42e9-a6b2-a13524026d3b",
   "metadata": {},
   "source": [
    "### Interpolate and high pass filter (1000s cutoff)"
   ]
  },
  {
   "cell_type": "code",
   "execution_count": null,
   "id": "dd6dc0cc",
   "metadata": {},
   "outputs": [],
   "source": [
    "gauge_microstrain_interpolated = gauge_microstrain.interpolate(method='linear', limit_seconds=3600)\n",
    "gauge_microstrain_interpolated.stats()\n",
    "#ts3.plot(type='line')"
   ]
  },
  {
   "cell_type": "code",
   "execution_count": null,
   "id": "aa51baa2-2aa3-44de-a847-b571f2d27f1a",
   "metadata": {},
   "outputs": [],
   "source": [
    "gauge_microstrain_filtered = gauge_microstrain_interpolated.butterworth_filter(filter_type='high', filter_order=2, filter_cutoff_s=1000)\n",
    "gauge_microstrain_filtered.stats()\n",
    "gauge_microstrain_filtered.plot(type='line')"
   ]
  },
  {
   "cell_type": "markdown",
   "id": "45541235-c0a6-4fd1-a631-fa8662a03162",
   "metadata": {},
   "source": [
    "### Calculate dynamic strain and estimated magnitude using Barbour et al 2021"
   ]
  },
  {
   "cell_type": "code",
   "execution_count": null,
   "id": "24eabb17-6afa-41a2-af0a-6ceeba6c81c7",
   "metadata": {},
   "outputs": [],
   "source": [
    "dynamic_strain = gauge_microstrain_filtered.dynamic_strain()\n",
    "dynamic_strain.stats()\n",
    "dynamic_strain.plot(type='line')"
   ]
  },
  {
   "cell_type": "code",
   "execution_count": null,
   "id": "3535939f-6f6f-46ae-bf9c-b52963fe12e6",
   "metadata": {},
   "outputs": [],
   "source": [
    "estimated_magnitude = dynamic_strain.calculate_magnitude(hypocentral_distance, meta.site_term, meta.longitude_term)\n",
    "estimated_magnitude.plot()"
   ]
  },
  {
   "cell_type": "code",
   "execution_count": null,
   "id": "bb004c45-906b-4484-9371-ef1461572965",
   "metadata": {},
   "outputs": [],
   "source": [
    "title = f\"{network}.{station} at {hypocentral_distance} km from {eq.name}\"\n",
    "magnitude_plot(dynamic_strain_df=dynamic_strain.data, \n",
    "               magnitude_df=estimated_magnitude.data, \n",
    "               eq_time=eq.time, \n",
    "               eq_mag=eq.mag, \n",
    "               title=title)"
   ]
  },
  {
   "cell_type": "markdown",
   "id": "f9c0da34-2f5d-4888-9cda-0781bad0ff51",
   "metadata": {},
   "source": [
    "### Plot any co-seismic offsets in regional strains"
   ]
  },
  {
   "cell_type": "code",
   "execution_count": null,
   "id": "d228ba57-816a-4f09-943e-6b712eb93651",
   "metadata": {},
   "outputs": [],
   "source": [
    "regional_microstrain = gauge_microstrain.apply_calibration_matrix(meta.strain_matrices['lab_strain_matrix'])\n",
    "regional_microstrain.plot()"
   ]
  },
  {
   "cell_type": "code",
   "execution_count": null,
   "id": "47f34628-56a1-43b0-be78-f894f154dea5",
   "metadata": {},
   "outputs": [],
   "source": [
    "plot_coseismic_offset(\n",
    "    df = regional_microstrain.data,\n",
    "    plot_type='line',\n",
    "    units = 'microstrain',\n",
    "    eq_time= eq.time,\n",
    "    coseismic_offset = True,\n",
    "    color=\"black\",)\n",
    "    "
   ]
  },
  {
   "cell_type": "code",
   "execution_count": null,
   "id": "7526483e-e6f6-4cb3-a92e-1f5e1a9c7339",
   "metadata": {},
   "outputs": [],
   "source": []
  }
 ],
 "metadata": {
  "kernelspec": {
   "display_name": "venv",
   "language": "python",
   "name": "venv"
  },
  "language_info": {
   "codemirror_mode": {
    "name": "ipython",
    "version": 3
   },
   "file_extension": ".py",
   "mimetype": "text/x-python",
   "name": "python",
   "nbconvert_exporter": "python",
   "pygments_lexer": "ipython3",
   "version": "3.9.16"
  }
 },
 "nbformat": 4,
 "nbformat_minor": 5
}
